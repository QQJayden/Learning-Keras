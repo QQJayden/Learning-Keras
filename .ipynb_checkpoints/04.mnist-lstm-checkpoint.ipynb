{
 "cells": [
  {
   "cell_type": "code",
   "execution_count": 1,
   "metadata": {},
   "outputs": [
    {
     "name": "stderr",
     "output_type": "stream",
     "text": [
      "/home/jayden/anaconda3/lib/python3.6/site-packages/h5py/__init__.py:36: FutureWarning: Conversion of the second argument of issubdtype from `float` to `np.floating` is deprecated. In future, it will be treated as `np.float64 == np.dtype(float).type`.\n",
      "  from ._conv import register_converters as _register_converters\n",
      "Using TensorFlow backend.\n"
     ]
    }
   ],
   "source": [
    "from keras.models import Sequential\n",
    "from keras.layers import LSTM, Dense\n",
    "from keras.datasets import mnist\n",
    "from keras.utils import np_utils\n",
    "from keras import initializers\n",
    "\n",
    "#  本代码中去掉了这种初始化方法\n",
    "def init_weights(shape, name=None):\n",
    "    return initializers.random_normal(shape, stddev=0.01)"
   ]
  },
  {
   "cell_type": "markdown",
   "metadata": {},
   "source": [
    "### 为何要权重初始化？？"
   ]
  },
  {
   "cell_type": "code",
   "execution_count": 2,
   "metadata": {
    "collapsed": true
   },
   "outputs": [],
   "source": [
    "from keras.utils.vis_utils import plot_model"
   ]
  },
  {
   "cell_type": "code",
   "execution_count": 3,
   "metadata": {
    "collapsed": true
   },
   "outputs": [],
   "source": [
    "# Hyper parameters# Hyper \n",
    "batch_size = 128\n",
    "nb_epoch = 10\n",
    "\n",
    "# Parameters for MNIST dataset\n",
    "img_rows, img_cols = 28, 28\n",
    "nb_classes = 10\n",
    "\n",
    "# Parameters for LSTM network\n",
    "nb_lstm_outputs = 30\n",
    "nb_time_steps = img_rows\n",
    "dim_input_vector = img_cols"
   ]
  },
  {
   "cell_type": "code",
   "execution_count": 4,
   "metadata": {},
   "outputs": [
    {
     "name": "stdout",
     "output_type": "stream",
     "text": [
      "X_train original shape: (60000, 28, 28)\n",
      "X_train shape: (60000, 28, 28)\n",
      "60000 train samples\n",
      "10000 test samples\n"
     ]
    }
   ],
   "source": [
    "# Load MNIST dataset\n",
    "(X_train, y_train), (X_test, y_test) = mnist.load_data()\n",
    "\n",
    "print('X_train original shape:', X_train.shape)\n",
    "\n",
    "input_shape = (nb_time_steps, dim_input_vector)\n",
    "\n",
    "X_train = X_train.astype('float32') / 255.\n",
    "X_test = X_test.astype('float32') / 255.\n",
    "\n",
    "# 标签转化为onehot 编码\n",
    "Y_train = np_utils.to_categorical(y_train, nb_classes)\n",
    "Y_test = np_utils.to_categorical(y_test, nb_classes)\n",
    "\n",
    "print('X_train shape:', X_train.shape)\n",
    "print(X_train.shape[0], 'train samples')\n",
    "print(X_test.shape[0], 'test samples')"
   ]
  },
  {
   "cell_type": "code",
   "execution_count": 5,
   "metadata": {},
   "outputs": [
    {
     "name": "stdout",
     "output_type": "stream",
     "text": [
      "_________________________________________________________________\n",
      "Layer (type)                 Output Shape              Param #   \n",
      "=================================================================\n",
      "lstm_1 (LSTM)                (None, 30)                7080      \n",
      "_________________________________________________________________\n",
      "dense_1 (Dense)              (None, 10)                310       \n",
      "=================================================================\n",
      "Total params: 7,390\n",
      "Trainable params: 7,390\n",
      "Non-trainable params: 0\n",
      "_________________________________________________________________\n"
     ]
    }
   ],
   "source": [
    "model = Sequential()\n",
    "model.add(LSTM(nb_lstm_outputs,input_shape=input_shape))\n",
    "model.add(Dense(nb_classes, activation='softmax'))\n",
    "model.summary()"
   ]
  },
  {
   "cell_type": "code",
   "execution_count": 6,
   "metadata": {
    "collapsed": true
   },
   "outputs": [],
   "source": [
    "plot_model(model, to_file='lstm_model.png')"
   ]
  },
  {
   "cell_type": "code",
   "execution_count": 7,
   "metadata": {
    "collapsed": true
   },
   "outputs": [],
   "source": [
    "model.compile(optimizer='rmsprop', \n",
    "              loss='categorical_crossentropy',\n",
    "              metrics=['accuracy'])"
   ]
  },
  {
   "cell_type": "code",
   "execution_count": 9,
   "metadata": {},
   "outputs": [
    {
     "name": "stdout",
     "output_type": "stream",
     "text": [
      "Epoch 1/10\n",
      "60000/60000 [==============================] - 20s - loss: 1.1950 - acc: 0.6210    \n",
      "Epoch 2/10\n",
      "60000/60000 [==============================] - 11s - loss: 0.4486 - acc: 0.8698    - E\n",
      "Epoch 3/10\n",
      "60000/60000 [==============================] - 11s - loss: 0.2786 - acc: 0.9201    \n",
      "Epoch 4/10\n",
      "60000/60000 [==============================] - 11s - loss: 0.2039 - acc: 0.9413    \n",
      "Epoch 5/10\n",
      "60000/60000 [==============================] - 11s - loss: 0.1680 - acc: 0.9518    \n",
      "Epoch 6/10\n",
      "60000/60000 [==============================] - 11s - loss: 0.1428 - acc: 0.9583    \n",
      "Epoch 7/10\n",
      "60000/60000 [==============================] - 11s - loss: 0.1263 - acc: 0.9633    \n",
      "Epoch 8/10\n",
      "60000/60000 [==============================] - 11s - loss: 0.1153 - acc: 0.9668    \n",
      "Epoch 9/10\n",
      "60000/60000 [==============================] - 11s - loss: 0.1049 - acc: 0.9690    \n",
      "Epoch 10/10\n",
      "60000/60000 [==============================] - 11s - loss: 0.0969 - acc: 0.9711    \n"
     ]
    }
   ],
   "source": [
    "history = model.fit(X_train, Y_train, \n",
    "                    epochs=nb_epoch, \n",
    "                    batch_size=batch_size, \n",
    "                    shuffle=True, \n",
    "                    verbose=1)"
   ]
  },
  {
   "cell_type": "code",
   "execution_count": 10,
   "metadata": {},
   "outputs": [
    {
     "name": "stdout",
     "output_type": "stream",
     "text": [
      " 9888/10000 [============================>.] - ETA: 0sTest score: 0.10394799260422588\n",
      "Test accuracy: 0.9689\n"
     ]
    }
   ],
   "source": [
    "score  = model.evaluate(X_test, Y_test, verbose=1)\n",
    "print('Test score:', score[0])\n",
    "print('Test accuracy:', score[1])"
   ]
  }
 ],
 "metadata": {
  "kernelspec": {
   "display_name": "Python 3",
   "language": "python",
   "name": "python3"
  },
  "language_info": {
   "codemirror_mode": {
    "name": "ipython",
    "version": 3
   },
   "file_extension": ".py",
   "mimetype": "text/x-python",
   "name": "python",
   "nbconvert_exporter": "python",
   "pygments_lexer": "ipython3",
   "version": "3.6.3"
  }
 },
 "nbformat": 4,
 "nbformat_minor": 2
}
