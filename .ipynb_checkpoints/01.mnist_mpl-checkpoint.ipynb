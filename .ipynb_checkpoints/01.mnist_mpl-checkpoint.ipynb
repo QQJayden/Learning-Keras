{
 "cells": [
  {
   "cell_type": "markdown",
   "metadata": {},
   "source": [
    "### 两个隐含层的神经网络"
   ]
  },
  {
   "cell_type": "code",
   "execution_count": 1,
   "metadata": {
    "collapsed": true
   },
   "outputs": [],
   "source": [
    "from __future__ import print_function\n",
    "import numpy as np\n",
    "np.random.seed(1337)"
   ]
  },
  {
   "cell_type": "code",
   "execution_count": 2,
   "metadata": {},
   "outputs": [
    {
     "name": "stderr",
     "output_type": "stream",
     "text": [
      "/home/jayden/anaconda3/lib/python3.6/site-packages/h5py/__init__.py:36: FutureWarning: Conversion of the second argument of issubdtype from `float` to `np.floating` is deprecated. In future, it will be treated as `np.float64 == np.dtype(float).type`.\n",
      "  from ._conv import register_converters as _register_converters\n",
      "Using TensorFlow backend.\n"
     ]
    }
   ],
   "source": [
    "from keras.datasets import mnist\n",
    "from keras.models import Sequential\n",
    "from keras.layers.core import Dense, Dropout, Activation\n",
    "from keras.optimizers import SGD, Adam, RMSprop\n",
    "from keras.utils import np_utils"
   ]
  },
  {
   "cell_type": "code",
   "execution_count": 3,
   "metadata": {
    "collapsed": true
   },
   "outputs": [],
   "source": [
    "from keras.utils.vis_utils import plot_model"
   ]
  },
  {
   "cell_type": "code",
   "execution_count": 23,
   "metadata": {},
   "outputs": [],
   "source": [
    "import keras\n",
    "import matplotlib.pyplot as plt\n",
    "\n",
    "# 写一个LossHistory类，保存loss 和acc\n",
    "class LossHistory(keras.callbacks.Callback):\n",
    "    def on_train_begin(self, logs={}):\n",
    "        self.losses = {'batch':[], 'epoch':[]}\n",
    "        self.accuracy = {'batch':[], 'epoch':[]}\n",
    "        self.val_loss = {'batch':[], 'epoch':[]}\n",
    "        self.val_acc = {'batch':[], 'epoch':[]}\n",
    "        \n",
    "    def on_batch_end(self, batch, logs={}):\n",
    "        self.losses['batch'].append(logs.get('loss'))\n",
    "        self.accuracy['batch'].append(logs.get('acc'))\n",
    "        self.val_loss['batch'].append(logs.get('val_loss'))\n",
    "        self.val_acc['batch'].append(logs.get('val_acc'))\n",
    "    \n",
    "    def on_epoch_end(self, batch, logs={}):\n",
    "        self.losses['epoch'].append(logs.get('loss'))\n",
    "        self.accuracy['epoch'].append(logs.get('acc'))\n",
    "        self.val_loss['epoch'].append(logs.get('val_loss'))\n",
    "        self.val_acc['epoch'].append(logs.get('val_acc'))\n",
    "        \n",
    "    def loss_plot(self, loss_type):\n",
    "        iters = range(len(self.losses[loss_type]))\n",
    "        plt.figure()\n",
    "        \n",
    "        plt.plot(iters, self.accuracy[loss_type], 'r', \n",
    "                 label = 'train acc')\n",
    "        plt.plot(iters, self.losses[loss_type], 'g', \n",
    "                 label='train loss')\n",
    "        \n",
    "        if loss_type == 'epoch':\n",
    "            # val_acc\n",
    "            plt.plot(iters, self.val_acc[loss_type], 'b', label='val acc')\n",
    "            # val_loss\n",
    "            plt.plot(iters, self.val_loss[loss_type], 'k', label='val loss')\n",
    "        \n",
    "        plt.grid(True)\n",
    "        plt.xlabel(loss_type)\n",
    "        plt.ylabel('acc-loss')\n",
    "        plt.legend(loc=\"upper right\")\n",
    "        plt.show()"
   ]
  },
  {
   "cell_type": "code",
   "execution_count": 4,
   "metadata": {
    "collapsed": true
   },
   "outputs": [],
   "source": [
    "batch_size =128\n",
    "nb_classes = 10\n",
    "nb_epoch = 20"
   ]
  },
  {
   "cell_type": "code",
   "execution_count": 5,
   "metadata": {},
   "outputs": [
    {
     "name": "stdout",
     "output_type": "stream",
     "text": [
      "60000 train samples\n",
      "10000 test samples\n"
     ]
    }
   ],
   "source": [
    "(X_train, y_train), (X_test, y_test)=mnist.load_data()\n",
    "\n",
    "X_train = X_train.reshape(60000, 784).astype('float32')\n",
    "X_test = X_test.reshape(10000,784).astype('float32')\n",
    "\n",
    "X_train/=255\n",
    "X_test/=255\n",
    "\n",
    "print(X_train.shape[0], 'train samples')\n",
    "print(X_test.shape[0],'test samples')"
   ]
  },
  {
   "cell_type": "code",
   "execution_count": 6,
   "metadata": {
    "collapsed": true
   },
   "outputs": [],
   "source": [
    "# convert class vectors to binary class matrices\n",
    "Y_train = np_utils.to_categorical(y_train, nb_classes)\n",
    "Y_test = np_utils.to_categorical(y_test, nb_classes)"
   ]
  },
  {
   "cell_type": "code",
   "execution_count": 27,
   "metadata": {},
   "outputs": [
    {
     "name": "stdout",
     "output_type": "stream",
     "text": [
      "_________________________________________________________________\n",
      "Layer (type)                 Output Shape              Param #   \n",
      "=================================================================\n",
      "dense_4 (Dense)              (None, 512)               401920    \n",
      "_________________________________________________________________\n",
      "activation_4 (Activation)    (None, 512)               0         \n",
      "_________________________________________________________________\n",
      "dropout_3 (Dropout)          (None, 512)               0         \n",
      "_________________________________________________________________\n",
      "dense_5 (Dense)              (None, 512)               262656    \n",
      "_________________________________________________________________\n",
      "activation_5 (Activation)    (None, 512)               0         \n",
      "_________________________________________________________________\n",
      "dropout_4 (Dropout)          (None, 512)               0         \n",
      "_________________________________________________________________\n",
      "dense_6 (Dense)              (None, 10)                5130      \n",
      "_________________________________________________________________\n",
      "activation_6 (Activation)    (None, 10)                0         \n",
      "=================================================================\n",
      "Total params: 669,706\n",
      "Trainable params: 669,706\n",
      "Non-trainable params: 0\n",
      "_________________________________________________________________\n"
     ]
    }
   ],
   "source": [
    "model = Sequential()\n",
    "model.add(Dense(512, input_shape=(784, )))\n",
    "model.add(Activation('relu'))\n",
    "model.add(Dropout(0.2))\n",
    "model.add(Dense(512))\n",
    "model.add(Activation('relu'))\n",
    "model.add(Dropout(0.2))\n",
    "model.add(Dense(10))\n",
    "model.add(Activation('softmax'))\n",
    "model.summary()"
   ]
  },
  {
   "cell_type": "raw",
   "metadata": {},
   "source": [
    "from keras.models import load_model\n",
    "model = load_model('model-mpl.h5')\n",
    "model.summary()\n",
    "\n",
    "#  不需要训练了，直接用导入的模型来进行预测"
   ]
  },
  {
   "cell_type": "raw",
   "metadata": {
    "collapsed": true
   },
   "source": [
    "plot_model(model, to_file='model.png')"
   ]
  },
  {
   "cell_type": "code",
   "execution_count": 28,
   "metadata": {
    "collapsed": true
   },
   "outputs": [],
   "source": [
    "model.compile(loss='categorical_crossentropy',optimizer=RMSprop(),\n",
    "             metrics = ['accuracy'])"
   ]
  },
  {
   "cell_type": "raw",
   "metadata": {
    "scrolled": false
   },
   "source": [
    "history = model.fit(X_train, Y_train,\n",
    "                   batch_size = batch_size, epochs = nb_epoch,\n",
    "                   verbose=1, validation_data=(X_test, Y_test))"
   ]
  },
  {
   "cell_type": "code",
   "execution_count": 29,
   "metadata": {},
   "outputs": [
    {
     "name": "stdout",
     "output_type": "stream",
     "text": [
      "Train on 60000 samples, validate on 10000 samples\n",
      "Epoch 1/20\n",
      "60000/60000 [==============================] - 1s - loss: 0.2479 - acc: 0.9236 - val_loss: 0.1032 - val_acc: 0.9689\n",
      "Epoch 2/20\n",
      "60000/60000 [==============================] - 1s - loss: 0.1013 - acc: 0.9694 - val_loss: 0.0782 - val_acc: 0.9782\n",
      "Epoch 3/20\n",
      "60000/60000 [==============================] - 1s - loss: 0.0761 - acc: 0.9770 - val_loss: 0.0712 - val_acc: 0.9780\n",
      "Epoch 4/20\n",
      "60000/60000 [==============================] - 1s - loss: 0.0612 - acc: 0.9823 - val_loss: 0.0844 - val_acc: 0.9779\n",
      "Epoch 5/20\n",
      "60000/60000 [==============================] - 1s - loss: 0.0512 - acc: 0.9843 - val_loss: 0.0705 - val_acc: 0.9804\n",
      "Epoch 6/20\n",
      "60000/60000 [==============================] - 1s - loss: 0.0432 - acc: 0.9865 - val_loss: 0.0792 - val_acc: 0.9817\n",
      "Epoch 7/20\n",
      "60000/60000 [==============================] - 1s - loss: 0.0381 - acc: 0.9886 - val_loss: 0.0685 - val_acc: 0.9832\n",
      "Epoch 8/20\n",
      "60000/60000 [==============================] - 1s - loss: 0.0352 - acc: 0.9898 - val_loss: 0.0843 - val_acc: 0.9811\n",
      "Epoch 9/20\n",
      "60000/60000 [==============================] - 1s - loss: 0.0295 - acc: 0.9914 - val_loss: 0.1052 - val_acc: 0.9807\n",
      "Epoch 10/20\n",
      "60000/60000 [==============================] - 1s - loss: 0.0296 - acc: 0.9913 - val_loss: 0.0904 - val_acc: 0.9827\n",
      "Epoch 11/20\n",
      "60000/60000 [==============================] - 1s - loss: 0.0290 - acc: 0.9921 - val_loss: 0.1514 - val_acc: 0.9700\n",
      "Epoch 12/20\n",
      "60000/60000 [==============================] - 1s - loss: 0.0248 - acc: 0.9930 - val_loss: 0.1020 - val_acc: 0.9829\n",
      "Epoch 13/20\n",
      "60000/60000 [==============================] - 1s - loss: 0.0241 - acc: 0.9930 - val_loss: 0.1053 - val_acc: 0.9798\n",
      "Epoch 14/20\n",
      "60000/60000 [==============================] - 1s - loss: 0.0230 - acc: 0.9940 - val_loss: 0.1017 - val_acc: 0.9828\n",
      "Epoch 15/20\n",
      "60000/60000 [==============================] - 1s - loss: 0.0228 - acc: 0.9939 - val_loss: 0.0979 - val_acc: 0.9826\n",
      "Epoch 16/20\n",
      "60000/60000 [==============================] - 1s - loss: 0.0204 - acc: 0.9947 - val_loss: 0.0986 - val_acc: 0.9834\n",
      "Epoch 17/20\n",
      "60000/60000 [==============================] - 1s - loss: 0.0197 - acc: 0.9945 - val_loss: 0.1043 - val_acc: 0.9814\n",
      "Epoch 18/20\n",
      "60000/60000 [==============================] - 1s - loss: 0.0220 - acc: 0.9947 - val_loss: 0.1078 - val_acc: 0.9822\n",
      "Epoch 19/20\n",
      "60000/60000 [==============================] - 1s - loss: 0.0193 - acc: 0.9952 - val_loss: 0.1081 - val_acc: 0.9840\n",
      "Epoch 20/20\n",
      "60000/60000 [==============================] - 1s - loss: 0.0178 - acc: 0.9956 - val_loss: 0.1177 - val_acc: 0.9824\n"
     ]
    },
    {
     "data": {
      "text/plain": [
       "<keras.callbacks.History at 0x7f46980f3e80>"
      ]
     },
     "execution_count": 29,
     "metadata": {},
     "output_type": "execute_result"
    }
   ],
   "source": [
    "history = LossHistory()\n",
    "\n",
    "model.fit(X_train, Y_train, \n",
    "          batch_size=batch_size, \n",
    "          epochs = nb_epoch, \n",
    "          verbose = 1, \n",
    "          validation_data=(X_test, Y_test),\n",
    "          callbacks = [history])"
   ]
  },
  {
   "cell_type": "code",
   "execution_count": 17,
   "metadata": {},
   "outputs": [
    {
     "name": "stdout",
     "output_type": "stream",
     "text": [
      "test score 0.11666321549652643\n",
      "test accuracy 0.9831\n"
     ]
    }
   ],
   "source": [
    "score = model.evaluate(X_test, Y_test, verbose=0)\n",
    "print('test score',score[0])\n",
    "print('test accuracy', score[1])"
   ]
  },
  {
   "cell_type": "code",
   "execution_count": 32,
   "metadata": {},
   "outputs": [
    {
     "data": {
      "image/png": "[encoded data removed]",
      "text/plain": [
       "<Figure size 432x288 with 1 Axes>"
      ]
     },
     "metadata": {},
     "output_type": "display_data"
    }
   ],
   "source": [
    "history.loss_plot('batch')"
   ]
  },
  {
   "cell_type": "raw",
   "metadata": {},
   "source": [
    "model.save('model-mpl.h5')"
   ]
  }
 ],
 "metadata": {
  "kernelspec": {
   "display_name": "Python 3",
   "language": "python",
   "name": "python3"
  },
  "language_info": {
   "codemirror_mode": {
    "name": "ipython",
    "version": 3
   },
   "file_extension": ".py",
   "mimetype": "text/x-python",
   "name": "python",
   "nbconvert_exporter": "python",
   "pygments_lexer": "ipython3",
   "version": "3.6.3"
  }
 },
 "nbformat": 4,
 "nbformat_minor": 2
}
