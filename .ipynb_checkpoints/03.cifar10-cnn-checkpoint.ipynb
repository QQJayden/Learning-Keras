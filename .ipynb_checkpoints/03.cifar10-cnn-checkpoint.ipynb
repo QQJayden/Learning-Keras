{
 "cells": [
  {
   "cell_type": "code",
   "execution_count": 1,
   "metadata": {},
   "outputs": [
    {
     "name": "stderr",
     "output_type": "stream",
     "text": [
      "/home/jayden/anaconda3/lib/python3.6/site-packages/h5py/__init__.py:36: FutureWarning: Conversion of the second argument of issubdtype from `float` to `np.floating` is deprecated. In future, it will be treated as `np.float64 == np.dtype(float).type`.\n",
      "  from ._conv import register_converters as _register_converters\n",
      "Using TensorFlow backend.\n"
     ]
    }
   ],
   "source": [
    "from __future__ import print_function\n",
    "from keras.datasets import cifar10\n",
    "from keras.preprocessing.image import ImageDataGenerator\n",
    "from keras.models import Sequential\n",
    "from keras.layers import Dense, Dropout, Activation, Flatten\n",
    "from keras.layers import Convolution2D, MaxPooling2D\n",
    "from keras.optimizers import SGD\n",
    "from keras.utils import np_utils"
   ]
  },
  {
   "cell_type": "code",
   "execution_count": 2,
   "metadata": {
    "collapsed": true
   },
   "outputs": [],
   "source": [
    "batch_size = 32\n",
    "nb_classes = 10\n",
    "nb_epoch = 20\n",
    "data_augmentation = True\n",
    "\n",
    "# input image dimensions\n",
    "img_rows, img_cols = 32, 32\n",
    "# the CIFAR10 images are RGB\n",
    "img_channels = 3"
   ]
  },
  {
   "cell_type": "code",
   "execution_count": 3,
   "metadata": {},
   "outputs": [
    {
     "name": "stdout",
     "output_type": "stream",
     "text": [
      "X_train shape: (50000, 32, 32, 3)\n",
      "50000 train samples\n",
      "10000 test samples\n"
     ]
    }
   ],
   "source": [
    "# the data, shuffled and split between train and test sets\n",
    "(X_train, y_train), (X_test, y_test) = cifar10.load_data()\n",
    "print('X_train shape:', X_train.shape)\n",
    "print(X_train.shape[0], 'train samples')\n",
    "print(X_test.shape[0], 'test samples')"
   ]
  },
  {
   "cell_type": "code",
   "execution_count": 4,
   "metadata": {
    "collapsed": true
   },
   "outputs": [],
   "source": [
    "# convert class vectors to binary class matrices\n",
    "Y_train = np_utils.to_categorical(y_train, nb_classes)\n",
    "Y_test = np_utils.to_categorical(y_test, nb_classes)"
   ]
  },
  {
   "cell_type": "code",
   "execution_count": 5,
   "metadata": {},
   "outputs": [
    {
     "name": "stderr",
     "output_type": "stream",
     "text": [
      "/home/jayden/anaconda3/lib/python3.6/site-packages/ipykernel_launcher.py:11: UserWarning: Update your `Conv2D` call to the Keras 2 API: `Conv2D(64, (3, 3), padding=\"same\")`\n",
      "  # This is added back by InteractiveShellApp.init_path()\n"
     ]
    }
   ],
   "source": [
    "model = Sequential()\n",
    "\n",
    "model.add(Convolution2D(32, (3, 3), padding='same',\n",
    "                        input_shape=X_train.shape[1:]))\n",
    "model.add(Activation('relu'))\n",
    "model.add(Convolution2D(32, (3, 3)))\n",
    "model.add(Activation('relu'))\n",
    "model.add(MaxPooling2D(pool_size=(2, 2)))\n",
    "model.add(Dropout(0.25))\n",
    "\n",
    "model.add(Convolution2D(64, (3, 3), border_mode='same'))\n",
    "model.add(Activation('relu'))\n",
    "model.add(Convolution2D(64, (3, 3)))\n",
    "model.add(Activation('relu'))\n",
    "model.add(MaxPooling2D(pool_size=(2, 2)))\n",
    "model.add(Dropout(0.25))\n",
    "\n",
    "model.add(Flatten())\n",
    "model.add(Dense(512))\n",
    "model.add(Activation('relu'))\n",
    "model.add(Dropout(0.5))\n",
    "model.add(Dense(nb_classes))\n",
    "model.add(Activation('softmax'))"
   ]
  },
  {
   "cell_type": "code",
   "execution_count": 6,
   "metadata": {},
   "outputs": [
    {
     "name": "stdout",
     "output_type": "stream",
     "text": [
      "_________________________________________________________________\n",
      "Layer (type)                 Output Shape              Param #   \n",
      "=================================================================\n",
      "conv2d_1 (Conv2D)            (None, 32, 32, 32)        896       \n",
      "_________________________________________________________________\n",
      "activation_1 (Activation)    (None, 32, 32, 32)        0         \n",
      "_________________________________________________________________\n",
      "conv2d_2 (Conv2D)            (None, 30, 30, 32)        9248      \n",
      "_________________________________________________________________\n",
      "activation_2 (Activation)    (None, 30, 30, 32)        0         \n",
      "_________________________________________________________________\n",
      "max_pooling2d_1 (MaxPooling2 (None, 15, 15, 32)        0         \n",
      "_________________________________________________________________\n",
      "dropout_1 (Dropout)          (None, 15, 15, 32)        0         \n",
      "_________________________________________________________________\n",
      "conv2d_3 (Conv2D)            (None, 15, 15, 64)        18496     \n",
      "_________________________________________________________________\n",
      "activation_3 (Activation)    (None, 15, 15, 64)        0         \n",
      "_________________________________________________________________\n",
      "conv2d_4 (Conv2D)            (None, 13, 13, 64)        36928     \n",
      "_________________________________________________________________\n",
      "activation_4 (Activation)    (None, 13, 13, 64)        0         \n",
      "_________________________________________________________________\n",
      "max_pooling2d_2 (MaxPooling2 (None, 6, 6, 64)          0         \n",
      "_________________________________________________________________\n",
      "dropout_2 (Dropout)          (None, 6, 6, 64)          0         \n",
      "_________________________________________________________________\n",
      "flatten_1 (Flatten)          (None, 2304)              0         \n",
      "_________________________________________________________________\n",
      "dense_1 (Dense)              (None, 512)               1180160   \n",
      "_________________________________________________________________\n",
      "activation_5 (Activation)    (None, 512)               0         \n",
      "_________________________________________________________________\n",
      "dropout_3 (Dropout)          (None, 512)               0         \n",
      "_________________________________________________________________\n",
      "dense_2 (Dense)              (None, 10)                5130      \n",
      "_________________________________________________________________\n",
      "activation_6 (Activation)    (None, 10)                0         \n",
      "=================================================================\n",
      "Total params: 1,250,858\n",
      "Trainable params: 1,250,858\n",
      "Non-trainable params: 0\n",
      "_________________________________________________________________\n"
     ]
    }
   ],
   "source": [
    "model.summary()"
   ]
  },
  {
   "cell_type": "code",
   "execution_count": 7,
   "metadata": {
    "collapsed": true
   },
   "outputs": [],
   "source": [
    "# let's train the model using SGD + momentum (how original).\n",
    "sgd = SGD(lr=0.01, decay=1e-6, momentum=0.9, nesterov=True)\n",
    "model.compile(loss='categorical_crossentropy',\n",
    "              optimizer=sgd,\n",
    "              metrics=['accuracy'])"
   ]
  },
  {
   "cell_type": "code",
   "execution_count": 8,
   "metadata": {
    "collapsed": true
   },
   "outputs": [],
   "source": [
    "# 数据压缩\n",
    "X_train = X_train.astype('float32')\n",
    "X_test = X_test.astype('float32')\n",
    "X_train /= 255\n",
    "X_test /= 255"
   ]
  },
  {
   "cell_type": "code",
   "execution_count": 10,
   "metadata": {},
   "outputs": [
    {
     "name": "stdout",
     "output_type": "stream",
     "text": [
      "Using real-time data augmentation.\n",
      "Epoch 1/20\n",
      "1563/1562 [==============================] - 156s - loss: 1.7905 - acc: 0.3357 - val_loss: 1.3764 - val_acc: 0.4999\n",
      "Epoch 2/20\n",
      "1563/1562 [==============================] - 158s - loss: 1.3974 - acc: 0.4919 - val_loss: 1.1294 - val_acc: 0.6018\n",
      "Epoch 3/20\n",
      "1563/1562 [==============================] - 156s - loss: 1.2531 - acc: 0.5541 - val_loss: 1.0333 - val_acc: 0.6401\n",
      "Epoch 4/20\n",
      "1563/1562 [==============================] - 156s - loss: 1.1427 - acc: 0.5966 - val_loss: 0.9577 - val_acc: 0.6640\n",
      "Epoch 5/20\n",
      "1563/1562 [==============================] - 161s - loss: 1.0669 - acc: 0.6225 - val_loss: 0.8703 - val_acc: 0.7003\n",
      "Epoch 6/20\n",
      "1563/1562 [==============================] - 161s - loss: 1.0116 - acc: 0.6448 - val_loss: 0.8286 - val_acc: 0.7098\n",
      "Epoch 7/20\n",
      "1563/1562 [==============================] - 156s - loss: 0.9765 - acc: 0.6550 - val_loss: 0.7749 - val_acc: 0.7354\n",
      "Epoch 8/20\n",
      "1563/1562 [==============================] - 151s - loss: 0.9498 - acc: 0.6665 - val_loss: 0.7493 - val_acc: 0.7396\n",
      "Epoch 9/20\n",
      "1563/1562 [==============================] - 151s - loss: 0.9291 - acc: 0.6740 - val_loss: 0.7617 - val_acc: 0.7362\n",
      "Epoch 10/20\n",
      "1563/1562 [==============================] - 151s - loss: 0.9061 - acc: 0.6856 - val_loss: 0.7311 - val_acc: 0.7457\n",
      "Epoch 11/20\n",
      "1563/1562 [==============================] - 151s - loss: 0.8929 - acc: 0.6926 - val_loss: 0.8107 - val_acc: 0.7192\n",
      "Epoch 12/20\n",
      "1563/1562 [==============================] - 151s - loss: 0.8762 - acc: 0.6939 - val_loss: 0.7166 - val_acc: 0.7533\n",
      "Epoch 13/20\n",
      "1563/1562 [==============================] - 151s - loss: 0.8746 - acc: 0.6956 - val_loss: 0.7130 - val_acc: 0.7489\n",
      "Epoch 14/20\n",
      "1563/1562 [==============================] - 151s - loss: 0.8664 - acc: 0.6995 - val_loss: 0.7123 - val_acc: 0.7540\n",
      "Epoch 15/20\n",
      "1563/1562 [==============================] - 151s - loss: 0.8567 - acc: 0.7052 - val_loss: 0.6838 - val_acc: 0.7666\n",
      "Epoch 16/20\n",
      "1563/1562 [==============================] - 151s - loss: 0.8399 - acc: 0.7101 - val_loss: 0.7298 - val_acc: 0.7474\n",
      "Epoch 17/20\n",
      "1563/1562 [==============================] - 151s - loss: 0.8348 - acc: 0.7111 - val_loss: 0.7115 - val_acc: 0.7562\n",
      "Epoch 18/20\n",
      "1563/1562 [==============================] - 151s - loss: 0.8321 - acc: 0.7133 - val_loss: 0.7000 - val_acc: 0.7578\n",
      "Epoch 19/20\n",
      "1563/1562 [==============================] - 151s - loss: 0.8135 - acc: 0.7197 - val_loss: 0.7402 - val_acc: 0.7465\n",
      "Epoch 20/20\n",
      "1563/1562 [==============================] - 148s - loss: 0.8128 - acc: 0.7196 - val_loss: 0.6737 - val_acc: 0.7684\n"
     ]
    }
   ],
   "source": [
    "# 数据增强\n",
    "if not data_augmentation:\n",
    "    print('Not using data augmentation.')\n",
    "    model.fit(X_train, Y_train,\n",
    "              batch_size=batch_size,\n",
    "              nb_epoch=nb_epoch,\n",
    "              validation_data=(X_test, Y_test),\n",
    "              shuffle=True)\n",
    "else:\n",
    "    print('Using real-time data augmentation.')\n",
    "\n",
    "    # 这将做预处理和实时数据增加\n",
    "    datagen = ImageDataGenerator(\n",
    "        featurewise_center=False,  # 在数据集上将输入平均值设置为0\n",
    "        samplewise_center=False,  # 将每个样本均值设置为0\n",
    "        featurewise_std_normalization=False,  # 将输入除以数据集的std\n",
    "        samplewise_std_normalization=False,  # 将每个输入除以其std\n",
    "        zca_whitening=False,  # 应用ZCA白化\n",
    "        rotation_range=0,  # 在一个范围下随机旋转图像(degrees, 0 to 180)\n",
    "        width_shift_range=0.1,  # 水平随机移位图像（总宽度的分数）\n",
    "        height_shift_range=0.1,  # 随机地垂直移动图像（总高度的分数）\n",
    "        horizontal_flip=True,  # 随机翻转图像\n",
    "        vertical_flip=False)  # 随机翻转图像\n",
    "\n",
    "    # 计算特征方向归一化所需的数量\n",
    "    # (std, mean, and principal components if ZCA whitening is applied)\n",
    "    datagen.fit(X_train)\n",
    "\n",
    "    # fit the model on the batches generated by datagen.flow()\n",
    "    model.fit_generator(datagen.flow(X_train, Y_train,\n",
    "                        batch_size=batch_size),\n",
    "                        steps_per_epoch=X_train.shape[0]/batch_size,\n",
    "                        epochs=nb_epoch,\n",
    "                        validation_data=(X_test, Y_test))"
   ]
  },
  {
   "cell_type": "code",
   "execution_count": 11,
   "metadata": {},
   "outputs": [
    {
     "name": "stdout",
     "output_type": "stream",
     "text": [
      "Test score: 0.6736571019172668\n",
      "Test accuracy: 0.7684\n"
     ]
    }
   ],
   "source": [
    "score = model.evaluate(X_test, Y_test, verbose=0)\n",
    "print('Test score:', score[0])\n",
    "print('Test accuracy:', score[1])"
   ]
  }
 ],
 "metadata": {
  "kernelspec": {
   "display_name": "Python 3",
   "language": "python",
   "name": "python3"
  },
  "language_info": {
   "codemirror_mode": {
    "name": "ipython",
    "version": 3
   },
   "file_extension": ".py",
   "mimetype": "text/x-python",
   "name": "python",
   "nbconvert_exporter": "python",
   "pygments_lexer": "ipython3",
   "version": "3.6.3"
  }
 },
 "nbformat": 4,
 "nbformat_minor": 2
}
